{
  "metadata": {
    "language_info": {
      "codemirror_mode": {
        "name": "python",
        "version": 3
      },
      "file_extension": ".py",
      "mimetype": "text/x-python",
      "name": "python",
      "nbconvert_exporter": "python",
      "pygments_lexer": "ipython3",
      "version": "3.8"
    },
    "kernelspec": {
      "name": "python",
      "display_name": "Python (Pyodide)",
      "language": "python"
    }
  },
  "nbformat_minor": 4,
  "nbformat": 4,
  "cells": [
    {
      "cell_type": "markdown",
      "source": "Rasterization: vector graphics format -> bitmap canvas (pixels)\n\nTriangle rasterization: given three points (1, 2, 3), determine the surface (triangle) to draw\n\nFor example:\n\n```\n..........\n...3......\n....##....\n...####...\n.1#######.\n......##2.\n..........\n```",
      "metadata": {}
    },
    {
      "cell_type": "code",
      "source": "width = 21\nheight = 30",
      "metadata": {
        "trusted": true
      },
      "execution_count": 1,
      "outputs": []
    },
    {
      "cell_type": "code",
      "source": "# One approach: to see if X lies in ABC, calculate area of ABC, and check if it equals with area of XBC\ndef raster_triangle_slow(x1, y1, x2, y2, x3, y3):\n    def area(x1, y1, x2, y2, x3, y3):\n        return abs((x1 * (y2 - y3) + x2 * (y3 - y1)\n                    + x3 * (y1 - y2)) / 2.0)\n\n\n    def isInside(x1, y1, x2, y2, x3, y3, x, y):\n        # Calculate area of triangle ABC\n        A = area (x1, y1, x2, y2, x3, y3)\n\n        # Calculate area of triangle XBC, XAC, XAB\n        A1 = area (x, y, x2, y2, x3, y3)\n        A2 = area (x1, y1, x, y, x3, y3)\n        A3 = area (x1, y1, x2, y2, x, y)\n\n        return A == A1 + A2 + A3\n\n    for i in range(0, width):\n        for j in range(0, height):\n            if isInside(x1, y1, x2, y2, x3, y3, i, j):\n                print('#', end='')\n            else:\n                print('.', end='')\n        print()",
      "metadata": {
        "trusted": true
      },
      "execution_count": 2,
      "outputs": []
    },
    {
      "cell_type": "code",
      "source": "raster_triangle_slow( 10, 30, 0, 0, 20, 0 ) # example run",
      "metadata": {
        "trusted": true
      },
      "execution_count": 3,
      "outputs": [
        {
          "name": "stdout",
          "text": "#.............................\n####..........................\n#######.......................\n##########....................\n#############.................\n################..............\n###################...........\n######################........\n#########################.....\n############################..\n##############################\n############################..\n#########################.....\n######################........\n###################...........\n################..............\n#############.................\n##########....................\n#######.......................\n####..........................\n#.............................\n",
          "output_type": "stream"
        }
      ]
    },
    {
      "cell_type": "markdown",
      "source": "Interpolation is a type of estimation. Linear interpolation formula is $y = y_a + (y_b - y_a)y'$, where $y' = \\frac{x - x_a}{x_b - x_a}$. This can be deduced by the [slope-point formula](https://refl.blog/2017/09/03/deriving-point-slope-from-slope-intercept-form/).\n",
      "metadata": {}
    },
    {
      "cell_type": "code",
      "source": "def interpolate(x, x0, y0, x1, y1):\n    return y0 + (x - x0) * (y1 - y0) / (x1 - x0)",
      "metadata": {
        "trusted": true
      },
      "execution_count": 4,
      "outputs": []
    },
    {
      "cell_type": "markdown",
      "source": "Now we can make the triangle drawing a bit faster!",
      "metadata": {}
    },
    {
      "cell_type": "code",
      "source": "# A bit faster!\ndef raster_triangle_interpolated(x1, y1, x2, y2, x3, y3):\n    def isInside(x1, y1, x2, y2, x3, y3, x, y):\n        # Calculate the barycentric coordinates\n        w1 = ((y2 - y3) * (x - x3) + (x3 - x2) * (y - y3)) / \\\n             ((y2 - y3) * (x1 - x3) + (x3 - x2) * (y1 - y3))\n        w2 = ((y3 - y1) * (x - x3) + (x1 - x3) * (y - y3)) / \\\n             ((y2 - y3) * (x1 - x3) + (x3 - x2) * (y1 - y3))\n        w3 = 1 - w1 - w2\n\n        return 0 <= w1 <= 1 and 0 <= w2 <= 1 and 0 <= w3 <= 1\n\n    m = [ [ '.' for _ in range(height)] for _ in range(width) ]\n\n    for i in range(0, width):\n        for j in range(0, height):\n            if isInside(x1, y1, x2, y2, x3, y3, i, j):\n                # Interpolate colors based on barycentric coordinates\n                intensity = interpolate(i, x1, 0, x2, 1)\n                if intensity >= 0:\n                    m[i][j] = '#'\n                    m[width - 1 - i][j] = '#'\n\n    for i in range(0, width):\n        for j in range(0, height):\n            print(m[i][j], end='')\n        print()",
      "metadata": {
        "trusted": true
      },
      "execution_count": 5,
      "outputs": []
    },
    {
      "cell_type": "code",
      "source": "raster_triangle_interpolated( 10, 30, 0, 0, 20, 0 )",
      "metadata": {
        "trusted": true
      },
      "execution_count": 6,
      "outputs": [
        {
          "name": "stdout",
          "text": "#.............................\n####..........................\n#######.......................\n##########....................\n#############.................\n################..............\n###################...........\n######################........\n########################......\n###########################...\n##############################\n###########################...\n########################......\n######################........\n###################...........\n################..............\n#############.................\n##########....................\n#######.......................\n####..........................\n#.............................\n",
          "output_type": "stream"
        }
      ]
    },
    {
      "cell_type": "code",
      "source": "",
      "metadata": {},
      "execution_count": null,
      "outputs": []
    }
  ]
}
